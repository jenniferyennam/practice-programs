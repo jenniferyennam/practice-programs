{
  "nbformat": 4,
  "nbformat_minor": 0,
  "metadata": {
    "colab": {
      "name": "BreadthFirstTraversal.ipynb",
      "provenance": [],
      "collapsed_sections": [],
      "authorship_tag": "ABX9TyN2qMySxBb2laoAfptrm0Rk",
      "include_colab_link": true
    },
    "kernelspec": {
      "name": "python3",
      "display_name": "Python 3"
    }
  },
  "cells": [
    {
      "cell_type": "markdown",
      "metadata": {
        "id": "view-in-github",
        "colab_type": "text"
      },
      "source": [
        "<a href=\"https://colab.research.google.com/github/jenniferyennam/practice-programs/blob/master/BreadthFirstTraversal.ipynb\" target=\"_parent\"><img src=\"https://colab.research.google.com/assets/colab-badge.svg\" alt=\"Open In Colab\"/></a>"
      ]
    },
    {
      "cell_type": "code",
      "metadata": {
        "id": "t0_bVKEgOjO8"
      },
      "source": [
        "#A note structure\n",
        "class Note:\n",
        "\n",
        "  #A utility function to create a new node\n",
        "  def __init__(self,data):\n",
        "    self.data=data\n",
        "    self.left=None\n",
        "    self.right=None\n",
        "\n",
        "\n",
        "#Function to print level order traversal of tree\n",
        "def prtLevelOrder(root):\n",
        "  h=height(root)\n",
        "  for i in range(1,h+1):\n",
        "    prtLevelOrder(root,i)\n",
        "\n",
        "\n",
        "# Print nodes at a given level\n",
        "def prtLevel(root,level):\n",
        "  if root is None:\n",
        "    return\n",
        "  if level==1:\n",
        "    print(\"%d\" %(root.data)),\n",
        "  elif level>1:\n",
        "    prtLevelOrder(root.left,level-1)\n",
        "    prtLevelOrder(root.right,level-1)\n",
        "\n",
        "\n",
        "\n",
        "\n"
      ],
      "execution_count": 2,
      "outputs": []
    }
  ]
}