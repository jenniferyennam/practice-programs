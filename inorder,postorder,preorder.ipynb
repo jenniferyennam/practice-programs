{
  "nbformat": 4,
  "nbformat_minor": 0,
  "metadata": {
    "colab": {
      "name": "inorder,postorder,preorder.ipynb",
      "provenance": [],
      "collapsed_sections": [],
      "authorship_tag": "ABX9TyOAKdFvfucMolpiAl0PpvKB",
      "include_colab_link": true
    },
    "kernelspec": {
      "name": "python3",
      "display_name": "Python 3"
    }
  },
  "cells": [
    {
      "cell_type": "markdown",
      "metadata": {
        "id": "view-in-github",
        "colab_type": "text"
      },
      "source": [
        "<a href=\"https://colab.research.google.com/github/jenniferyennam/practice-programs/blob/master/inorder%2Cpostorder%2Cpreorder.ipynb\" target=\"_parent\"><img src=\"https://colab.research.google.com/assets/colab-badge.svg\" alt=\"Open In Colab\"/></a>"
      ]
    },
    {
      "cell_type": "code",
      "metadata": {
        "id": "zw_PrxzZJmBS"
      },
      "source": [
        "class Node:\n",
        "  def __init__(self,key):\n",
        "    self.left=None\n",
        "    self.right=None\n",
        "    self.val=key\n",
        "#A function to do inorder tree traversal\n",
        "def printInorder(root):\n",
        "  if root:\n",
        "    #First recur on the left child\n",
        "    printInorder(root.left)\n",
        "    #then print the data of node\n",
        "    print(root.val),\n",
        "    #now recur on right child\n",
        "    printInorder(root.right)\n",
        "\n",
        "#A function to do postorder tree traversal\n",
        "def printPostorder(root):\n",
        "  if root:\n",
        "    #First recur on left child\n",
        "    printPostorder(root.left)\n",
        "    #then recur on right child\n",
        "    printPostorder(root.right)\n",
        "    #now print the data od node\n",
        "    print(root.val),\n",
        "\n",
        "#A function to do preorder tree traversal\n",
        "def printPreorder(root):\n",
        "  if root:\n",
        "    #First print the data of node\n",
        "    print(root.val),\n",
        "    #Then recur on left child\n",
        "    printPreorder(root.left)\n",
        "    #Finally recur on right child\n",
        "    printPreorder(root.right)\n"
      ],
      "execution_count": 3,
      "outputs": []
    }
  ]
}